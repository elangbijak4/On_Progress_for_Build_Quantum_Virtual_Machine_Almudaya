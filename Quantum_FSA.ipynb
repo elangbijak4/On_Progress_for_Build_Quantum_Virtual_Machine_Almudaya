{
  "nbformat": 4,
  "nbformat_minor": 0,
  "metadata": {
    "colab": {
      "provenance": [],
      "authorship_tag": "ABX9TyNNeqeMwjtNtlkgykLI4p1V",
      "include_colab_link": true
    },
    "kernelspec": {
      "name": "python3",
      "display_name": "Python 3"
    },
    "language_info": {
      "name": "python"
    }
  },
  "cells": [
    {
      "cell_type": "markdown",
      "metadata": {
        "id": "view-in-github",
        "colab_type": "text"
      },
      "source": [
        "<a href=\"https://colab.research.google.com/github/elangbijak4/On_Progress_for_Build_Quantum_Virtual_Machine_Almudaya/blob/main/Quantum_FSA.ipynb\" target=\"_parent\"><img src=\"https://colab.research.google.com/assets/colab-badge.svg\" alt=\"Open In Colab\"/></a>"
      ]
    },
    {
      "cell_type": "code",
      "source": [
        "!pip install  cirq"
      ],
      "metadata": {
        "id": "vpgVwLnewI-C"
      },
      "execution_count": null,
      "outputs": []
    },
    {
      "cell_type": "code",
      "source": [
        "!pip install cirq --upgrade  # Upgrade Cirq to the latest version"
      ],
      "metadata": {
        "id": "fDHFxLSpy7vm"
      },
      "execution_count": null,
      "outputs": []
    },
    {
      "cell_type": "code",
      "source": [
        "import cirq\n",
        "import matplotlib.pyplot as plt"
      ],
      "metadata": {
        "id": "aQBVnNEizAG6"
      },
      "execution_count": 4,
      "outputs": []
    },
    {
      "cell_type": "code",
      "source": [
        "from cirq.contrib.svg import SVGCircuit  # Import the necessary module for drawing"
      ],
      "metadata": {
        "id": "JS3iPsse2i9V"
      },
      "execution_count": 11,
      "outputs": []
    },
    {
      "cell_type": "code",
      "source": [
        "from IPython.display import SVG, display  # Import display from IPython"
      ],
      "metadata": {
        "id": "XcQPH9uV3ZKx"
      },
      "execution_count": 16,
      "outputs": []
    },
    {
      "cell_type": "code",
      "source": [
        "import numpy as np"
      ],
      "metadata": {
        "id": "p3cHQ5PuCncN"
      },
      "execution_count": 47,
      "outputs": []
    },
    {
      "cell_type": "markdown",
      "source": [
        "Demonstrasi QFSA (Quantum Finite State Automata)"
      ],
      "metadata": {
        "id": "IV_D0Q-7ZHV2"
      }
    },
    {
      "cell_type": "code",
      "source": [
        "# Function to simulate and plot a multi-qubit state\n",
        "def simulate_and_plot_multi(circuit, qubits, title):\n",
        "    simulator = cirq.Simulator()\n",
        "    result = simulator.simulate(circuit)\n",
        "    state_vector = result.final_state_vector\n",
        "    probabilities = np.abs(state_vector)**2\n",
        "\n",
        "    # Generate labels for the state vectors\n",
        "    num_qubits = len(qubits)\n",
        "    labels = ['|' + ''.join(str(i) for i in format(x, f'0{num_qubits}b')) + '⟩' for x in range(2**num_qubits)]\n",
        "    plt.bar(labels, probabilities, color=['blue', 'red', 'green', 'purple', 'orange', 'cyan', 'magenta', 'yellow'])\n",
        "    plt.title(title)\n",
        "    plt.ylabel('Probability')\n",
        "    plt.ylim(0, 1)\n",
        "    plt.show()\n",
        "\n",
        "# Define qubits\n",
        "qubits = [cirq.GridQubit(0, i) for i in range(3)]\n",
        "\n",
        "# Define QFSA Circuit\n",
        "circuit_qfsa = cirq.Circuit()\n",
        "\n",
        "# Initial state preparation (e.g., putting qubits in superposition)\n",
        "circuit_qfsa.append(cirq.H(qubits[0]))  # Put the first qubit in superposition\n",
        "circuit_qfsa.append(cirq.H(qubits[1]))  # Put the second qubit in superposition\n",
        "\n",
        "# Apply various gates as transitions\n",
        "circuit_qfsa.append(cirq.S(qubits[0]))  # S Gate on the first qubit\n",
        "circuit_qfsa.append(cirq.T(qubits[1]))  # T Gate on the second qubit\n",
        "circuit_qfsa.append(cirq.CNOT(qubits[0], qubits[1]))  # CNOT Gate with qubit 0 as control and qubit 1 as target\n",
        "circuit_qfsa.append(cirq.TOFFOLI(qubits[0], qubits[1], qubits[2]))  # Toffoli Gate with qubit 0 and 1 as control and qubit 2 as target\n",
        "circuit_qfsa.append(cirq.FREDKIN(qubits[0], qubits[1], qubits[2]))  # Fredkin Gate with qubit 0 as control and qubit 1, 2 as swap targets\n",
        "circuit_qfsa.append(cirq.SWAP(qubits[1], qubits[2]))  # SWAP Gate between qubit 1 and qubit 2\n",
        "circuit_qfsa.append(cirq.rx(np.pi / 4)(qubits[0]))  # RX Gate on the first qubit\n",
        "circuit_qfsa.append(cirq.ry(np.pi / 4)(qubits[1]))  # RY Gate on the second qubit\n",
        "circuit_qfsa.append(cirq.rz(np.pi / 4)(qubits[2]))  # RZ Gate on the third qubit\n",
        "\n",
        "# Measure the final states\n",
        "circuit_qfsa.append([cirq.measure(q) for q in qubits])\n",
        "\n",
        "# Simulate and plot the QFSA circuit\n",
        "simulate_and_plot_multi(circuit_qfsa, qubits, 'Quantum Finite State Automaton')\n",
        "\n",
        "# Print the circuit\n",
        "print(\"Quantum Finite State Automaton Circuit:\")\n",
        "print(circuit_qfsa)"
      ],
      "metadata": {
        "colab": {
          "base_uri": "https://localhost:8080/",
          "height": 557
        },
        "id": "2oZOSjWHYusa",
        "outputId": "87720f9c-d488-4258-c769-924e46484a67"
      },
      "execution_count": 117,
      "outputs": [
        {
          "output_type": "display_data",
          "data": {
            "text/plain": [
              "<Figure size 640x480 with 1 Axes>"
            ],
            "image/png": "[encoded data removed]"
          },
          "metadata": {}
        },
        {
          "output_type": "stream",
          "name": "stdout",
          "text": [
            "Quantum Finite State Automaton Circuit:\n",
            "(0, 0): ───H───S───@───@───@───Rx(0.25π)───M───────────────\n",
            "                   │   │   │\n",
            "(0, 1): ───H───T───X───@───×───×───────────Ry(0.25π)───M───\n",
            "                       │   │   │\n",
            "(0, 2): ───────────────X───×───×───────────Rz(0.25π)───M───\n"
          ]
        }
      ]
    },
    {
      "cell_type": "code",
      "source": [
        "# Use SVGCircuit to draw the circuit\n",
        "svg_circuit = cirq.contrib.svg.SVGCircuit(circuit_qfsa)\n",
        "svg_string = svg_circuit._repr_svg_()\n",
        "display(SVG(svg_string))"
      ],
      "metadata": {
        "colab": {
          "base_uri": "https://localhost:8080/",
          "height": 171
        },
        "id": "dqTKYNpWY2LE",
        "outputId": "20d077bf-1544-47e8-d0c3-274f7c4c0057"
      },
      "execution_count": 118,
      "outputs": [
        {
          "output_type": "display_data",
          "data": {
            "text/plain": [
              "<IPython.core.display.SVG object>"
            ],
            "image/svg+xml": "<svg xmlns=\"http://www.w3.org/2000/svg\" width=\"660.66875\" height=\"150.0\"><line x1=\"34.7588671875\" x2=\"630.66875\" y1=\"25.0\" y2=\"25.0\" stroke=\"#1967d2\" stroke-width=\"1\"/><line x1=\"34.7588671875\" x2=\"630.66875\" y1=\"75.0\" y2=\"75.0\" stroke=\"#1967d2\" stroke-width=\"1\"/><line x1=\"34.7588671875\" x2=\"630.66875\" y1=\"125.0\" y2=\"125.0\" stroke=\"#1967d2\" stroke-width=\"1\"/><line x1=\"219.517734375\" x2=\"219.517734375\" y1=\"25.0\" y2=\"75.0\" stroke=\"black\" stroke-width=\"3\"/><line x1=\"279.51773437500003\" x2=\"279.51773437500003\" y1=\"25.0\" y2=\"125.0\" stroke=\"black\" stroke-width=\"3\"/><line x1=\"339.51773437500003\" x2=\"339.51773437500003\" y1=\"25.0\" y2=\"125.0\" stroke=\"black\" stroke-width=\"3\"/><line x1=\"417.49798828125006\" x2=\"417.49798828125006\" y1=\"75.0\" y2=\"125.0\" stroke=\"black\" stroke-width=\"3\"/><rect x=\"10.0\" y=\"5.0\" width=\"49.517734375\" height=\"40\" stroke=\"black\" fill=\"white\" stroke-width=\"0\"/><text x=\"34.7588671875\" y=\"25.0\" dominant-baseline=\"middle\" text-anchor=\"middle\" font-size=\"14px\" font-family=\"sans\\-serif:style=normal:variant=normal:weight=normal:stretch=normal:size=10.0\">(0, 0): </text><rect x=\"10.0\" y=\"55.0\" width=\"49.517734375\" height=\"40\" stroke=\"black\" fill=\"white\" stroke-width=\"0\"/><text x=\"34.7588671875\" y=\"75.0\" dominant-baseline=\"middle\" text-anchor=\"middle\" font-size=\"14px\" font-family=\"sans\\-serif:style=normal:variant=normal:weight=normal:stretch=normal:size=10.0\">(0, 1): </text><rect x=\"10.0\" y=\"105.0\" width=\"49.517734375\" height=\"40\" stroke=\"black\" fill=\"white\" stroke-width=\"0\"/><text x=\"34.7588671875\" y=\"125.0\" dominant-baseline=\"middle\" text-anchor=\"middle\" font-size=\"14px\" font-family=\"sans\\-serif:style=normal:variant=normal:weight=normal:stretch=normal:size=10.0\">(0, 2): </text><rect x=\"79.517734375\" y=\"5.0\" width=\"40\" height=\"40\" stroke=\"black\" fill=\"white\" stroke-width=\"1\"/><text x=\"99.517734375\" y=\"25.0\" dominant-baseline=\"middle\" text-anchor=\"middle\" font-size=\"18px\" font-family=\"sans\\-serif:style=normal:variant=normal:weight=normal:stretch=normal:size=10.0\">H</text><rect x=\"79.517734375\" y=\"55.0\" width=\"40\" height=\"40\" stroke=\"black\" fill=\"white\" stroke-width=\"1\"/><text x=\"99.517734375\" y=\"75.0\" dominant-baseline=\"middle\" text-anchor=\"middle\" font-size=\"18px\" font-family=\"sans\\-serif:style=normal:variant=normal:weight=normal:stretch=normal:size=10.0\">H</text><rect x=\"139.517734375\" y=\"5.0\" width=\"40\" height=\"40\" stroke=\"black\" fill=\"white\" stroke-width=\"1\"/><text x=\"159.517734375\" y=\"25.0\" dominant-baseline=\"middle\" text-anchor=\"middle\" font-size=\"18px\" font-family=\"sans\\-serif:style=normal:variant=normal:weight=normal:stretch=normal:size=10.0\">S</text><rect x=\"139.517734375\" y=\"55.0\" width=\"40\" height=\"40\" stroke=\"black\" fill=\"white\" stroke-width=\"1\"/><text x=\"159.517734375\" y=\"75.0\" dominant-baseline=\"middle\" text-anchor=\"middle\" font-size=\"18px\" font-family=\"sans\\-serif:style=normal:variant=normal:weight=normal:stretch=normal:size=10.0\">T</text><circle cx=\"219.517734375\" cy=\"25.0\" r=\"10.0\"/><rect x=\"199.517734375\" y=\"55.0\" width=\"40\" height=\"40\" stroke=\"black\" fill=\"white\" stroke-width=\"1\"/><text x=\"219.517734375\" y=\"75.0\" dominant-baseline=\"middle\" text-anchor=\"middle\" font-size=\"18px\" font-family=\"sans\\-serif:style=normal:variant=normal:weight=normal:stretch=normal:size=10.0\">X</text><circle cx=\"279.51773437500003\" cy=\"25.0\" r=\"10.0\"/><circle cx=\"279.51773437500003\" cy=\"75.0\" r=\"10.0\"/><rect x=\"259.51773437500003\" y=\"105.0\" width=\"40\" height=\"40\" stroke=\"black\" fill=\"white\" stroke-width=\"1\"/><text x=\"279.51773437500003\" y=\"125.0\" dominant-baseline=\"middle\" text-anchor=\"middle\" font-size=\"18px\" font-family=\"sans\\-serif:style=normal:variant=normal:weight=normal:stretch=normal:size=10.0\">X</text><circle cx=\"339.51773437500003\" cy=\"25.0\" r=\"10.0\"/><text x=\"339.51773437500003\" y=\"78.0\" dominant-baseline=\"middle\" text-anchor=\"middle\" font-size=\"40px\" font-family=\"sans\\-serif:style=normal:variant=normal:weight=normal:stretch=normal:size=10.0\">×</text><text x=\"339.51773437500003\" y=\"128.0\" dominant-baseline=\"middle\" text-anchor=\"middle\" font-size=\"40px\" font-family=\"sans\\-serif:style=normal:variant=normal:weight=normal:stretch=normal:size=10.0\">×</text><text x=\"417.49798828125006\" y=\"78.0\" dominant-baseline=\"middle\" text-anchor=\"middle\" font-size=\"40px\" font-family=\"sans\\-serif:style=normal:variant=normal:weight=normal:stretch=normal:size=10.0\">×</text><text x=\"417.49798828125006\" y=\"128.0\" dominant-baseline=\"middle\" text-anchor=\"middle\" font-size=\"40px\" font-family=\"sans\\-serif:style=normal:variant=normal:weight=normal:stretch=normal:size=10.0\">×</text><rect x=\"379.51773437500003\" y=\"5.0\" width=\"75.96050781250001\" height=\"40\" stroke=\"black\" fill=\"white\" stroke-width=\"1\"/><text x=\"417.49798828125006\" y=\"25.0\" dominant-baseline=\"middle\" text-anchor=\"middle\" font-size=\"14px\" font-family=\"sans\\-serif:style=normal:variant=normal:weight=normal:stretch=normal:size=10.0\">Rx(0.25π)</text><rect x=\"475.47824218750003\" y=\"55.0\" width=\"75.1905078125\" height=\"40\" stroke=\"black\" fill=\"white\" stroke-width=\"1\"/><text x=\"513.07349609375\" y=\"75.0\" dominant-baseline=\"middle\" text-anchor=\"middle\" font-size=\"14px\" font-family=\"sans\\-serif:style=normal:variant=normal:weight=normal:stretch=normal:size=10.0\">Ry(0.25π)</text><rect x=\"475.47824218750003\" y=\"105.0\" width=\"75.1905078125\" height=\"40\" stroke=\"black\" fill=\"white\" stroke-width=\"1\"/><text x=\"513.07349609375\" y=\"125.0\" dominant-baseline=\"middle\" text-anchor=\"middle\" font-size=\"14px\" font-family=\"sans\\-serif:style=normal:variant=normal:weight=normal:stretch=normal:size=10.0\">Rz(0.25π)</text><rect x=\"475.47824218750003\" y=\"5.0\" width=\"75.1905078125\" height=\"40\" stroke=\"black\" fill=\"white\" stroke-width=\"1\"/><text x=\"513.07349609375\" y=\"25.0\" dominant-baseline=\"middle\" text-anchor=\"middle\" font-size=\"18px\" font-family=\"sans\\-serif:style=normal:variant=normal:weight=normal:stretch=normal:size=10.0\">M</text><rect x=\"570.66875\" y=\"55.0\" width=\"40\" height=\"40\" stroke=\"black\" fill=\"white\" stroke-width=\"1\"/><text x=\"590.66875\" y=\"75.0\" dominant-baseline=\"middle\" text-anchor=\"middle\" font-size=\"18px\" font-family=\"sans\\-serif:style=normal:variant=normal:weight=normal:stretch=normal:size=10.0\">M</text><rect x=\"570.66875\" y=\"105.0\" width=\"40\" height=\"40\" stroke=\"black\" fill=\"white\" stroke-width=\"1\"/><text x=\"590.66875\" y=\"125.0\" dominant-baseline=\"middle\" text-anchor=\"middle\" font-size=\"18px\" font-family=\"sans\\-serif:style=normal:variant=normal:weight=normal:stretch=normal:size=10.0\">M</text></svg>"
          },
          "metadata": {}
        }
      ]
    }
  ]
}