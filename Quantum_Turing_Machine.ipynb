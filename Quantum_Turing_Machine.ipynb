{
  "nbformat": 4,
  "nbformat_minor": 0,
  "metadata": {
    "colab": {
      "provenance": [],
      "authorship_tag": "ABX9TyO3nuU3S03W2h382ml0P5LT",
      "include_colab_link": true
    },
    "kernelspec": {
      "name": "python3",
      "display_name": "Python 3"
    },
    "language_info": {
      "name": "python"
    }
  },
  "cells": [
    {
      "cell_type": "markdown",
      "metadata": {
        "id": "view-in-github",
        "colab_type": "text"
      },
      "source": [
        "<a href=\"https://colab.research.google.com/github/elangbijak4/On_Progress_for_Build_Quantum_Virtual_Machine_Almudaya/blob/main/Quantum_Turing_Machine.ipynb\" target=\"_parent\"><img src=\"https://colab.research.google.com/assets/colab-badge.svg\" alt=\"Open In Colab\"/></a>"
      ]
    },
    {
      "cell_type": "code",
      "source": [
        "!pip install  cirq"
      ],
      "metadata": {
        "id": "vpgVwLnewI-C"
      },
      "execution_count": null,
      "outputs": []
    },
    {
      "cell_type": "code",
      "source": [
        "!pip install cirq --upgrade  # Upgrade Cirq to the latest version"
      ],
      "metadata": {
        "id": "fDHFxLSpy7vm"
      },
      "execution_count": null,
      "outputs": []
    },
    {
      "cell_type": "code",
      "source": [
        "import cirq\n",
        "import matplotlib.pyplot as plt"
      ],
      "metadata": {
        "id": "aQBVnNEizAG6"
      },
      "execution_count": 4,
      "outputs": []
    },
    {
      "cell_type": "code",
      "source": [
        "from cirq.contrib.svg import SVGCircuit  # Import the necessary module for drawing"
      ],
      "metadata": {
        "id": "JS3iPsse2i9V"
      },
      "execution_count": 11,
      "outputs": []
    },
    {
      "cell_type": "code",
      "source": [
        "from IPython.display import SVG, display  # Import display from IPython"
      ],
      "metadata": {
        "id": "XcQPH9uV3ZKx"
      },
      "execution_count": 16,
      "outputs": []
    },
    {
      "cell_type": "code",
      "source": [
        "import numpy as np"
      ],
      "metadata": {
        "id": "p3cHQ5PuCncN"
      },
      "execution_count": 47,
      "outputs": []
    },
    {
      "cell_type": "markdown",
      "source": [
        "Demonstrasi QTM (Quantum Turing Machine)"
      ],
      "metadata": {
        "id": "IV_D0Q-7ZHV2"
      }
    },
    {
      "cell_type": "code",
      "source": [
        "# Function to simulate and plot a multi-qubit state\n",
        "def simulate_and_plot_multi(circuit, qubits, title):\n",
        "    simulator = cirq.Simulator()\n",
        "    result = simulator.simulate(circuit)\n",
        "    state_vector = result.final_state_vector\n",
        "    probabilities = np.abs(state_vector)**2\n",
        "\n",
        "    # Generate labels for the state vectors\n",
        "    num_qubits = len(qubits)\n",
        "    labels = ['|' + ''.join(str(i) for i in format(x, f'0{num_qubits}b')) + '⟩' for x in range(2**num_qubits)]\n",
        "    plt.bar(labels, probabilities, color=['blue', 'red', 'green', 'purple', 'orange', 'cyan', 'magenta', 'yellow'])\n",
        "    plt.title(title)\n",
        "    plt.ylabel('Probability')\n",
        "    plt.ylim(0, 1)\n",
        "    plt.show()\n",
        "\n",
        "# Define qubits\n",
        "num_tape_cells = 5\n",
        "tape = [cirq.GridQubit(0, i) for i in range(num_tape_cells)]\n",
        "head = cirq.GridQubit(1, 0)\n",
        "control_state = cirq.GridQubit(2, 0)\n",
        "\n",
        "# Define QTM Circuit\n",
        "circuit_qtm = cirq.Circuit()\n",
        "\n",
        "# Initial state preparation (e.g., putting the first cell of the tape in superposition)\n",
        "circuit_qtm.append(cirq.H(tape[0]))  # Put the first cell in superposition\n",
        "circuit_qtm.append(cirq.H(control_state))  # Put the control state in superposition\n",
        "\n",
        "# Apply various gates as transitions\n",
        "# Example transitions\n",
        "circuit_qtm.append(cirq.CNOT(control_state, tape[1]))  # CNOT based on control state\n",
        "circuit_qtm.append(cirq.CNOT(tape[1], head))  # Move head based on the tape[1]\n",
        "\n",
        "# Example of applying a SWAP if the control state is |1>\n",
        "circuit_qtm.append(cirq.CSWAP(control_state, tape[1], tape[2]))  # Conditional SWAP\n",
        "\n",
        "# Example of using Toffoli to control state transitions\n",
        "circuit_qtm.append(cirq.TOFFOLI(tape[1], tape[2], control_state))\n",
        "\n",
        "# Example of using Fredkin gate\n",
        "circuit_qtm.append(cirq.FREDKIN(control_state, tape[2], tape[3]))\n",
        "\n",
        "# Measure the final states\n",
        "circuit_qtm.append([cirq.measure(q) for q in tape])\n",
        "circuit_qtm.append(cirq.measure(head))\n",
        "circuit_qtm.append(cirq.measure(control_state))\n",
        "\n",
        "# Simulate and plot the QTM circuit\n",
        "simulate_and_plot_multi(circuit_qtm, tape + [head, control_state], 'Quantum Turing Machine')\n",
        "\n",
        "# Print the circuit\n",
        "print(\"Quantum Turing Machine Circuit:\")\n",
        "print(circuit_qtm)"
      ],
      "metadata": {
        "colab": {
          "base_uri": "https://localhost:8080/",
          "height": 731
        },
        "id": "3rOrlJ4PaieH",
        "outputId": "d3b6d49c-5cfc-4736-c6e2-8578b5fae324"
      },
      "execution_count": 119,
      "outputs": [
        {
          "output_type": "display_data",
          "data": {
            "text/plain": [
              "<Figure size 640x480 with 1 Axes>"
            ],
            "image/png": "[encoded data removed]"
          },
          "metadata": {}
        },
        {
          "output_type": "stream",
          "name": "stdout",
          "text": [
            "Quantum Turing Machine Circuit:\n",
            "                       ┌──┐\n",
            "(0, 0): ───H───M──────────────────────────\n",
            "\n",
            "(0, 1): ───────X───@────×─────@───M───────\n",
            "               │   │    │     │\n",
            "(0, 2): ───────┼───┼────×─────@───×───M───\n",
            "               │   │    │     │   │\n",
            "(0, 3): ───────┼───┼────┼─────┼───×───M───\n",
            "               │   │    │     │   │\n",
            "(0, 4): ───M───┼───┼────┼─────┼───┼───────\n",
            "               │   │    │     │   │\n",
            "(1, 0): ───────┼───X────┼M────┼───┼───────\n",
            "               │        │     │   │\n",
            "(2, 0): ───H───@────────@─────X───@───M───\n",
            "                       └──┘\n"
          ]
        }
      ]
    },
    {
      "cell_type": "code",
      "source": [
        "# Use SVGCircuit to draw the circuit\n",
        "svg_circuit = cirq.contrib.svg.SVGCircuit(circuit_qtm)\n",
        "svg_string = svg_circuit._repr_svg_()\n",
        "display(SVG(svg_string))"
      ],
      "metadata": {
        "colab": {
          "base_uri": "https://localhost:8080/",
          "height": 411
        },
        "id": "KxcOYruWar9Z",
        "outputId": "dceb7078-75d7-4607-ce8e-f4e31bc7b1e8"
      },
      "execution_count": 120,
      "outputs": [
        {
          "output_type": "display_data",
          "data": {
            "text/plain": [
              "<IPython.core.display.SVG object>"
            ],
            "image/svg+xml": "<svg xmlns=\"http://www.w3.org/2000/svg\" width=\"569.517734375\" height=\"390.0\"><line x1=\"34.7588671875\" x2=\"539.517734375\" y1=\"45.0\" y2=\"45.0\" stroke=\"#1967d2\" stroke-width=\"1\"/><line x1=\"34.7588671875\" x2=\"539.517734375\" y1=\"95.0\" y2=\"95.0\" stroke=\"#1967d2\" stroke-width=\"1\"/><line x1=\"34.7588671875\" x2=\"539.517734375\" y1=\"145.0\" y2=\"145.0\" stroke=\"#1967d2\" stroke-width=\"1\"/><line x1=\"34.7588671875\" x2=\"539.517734375\" y1=\"195.0\" y2=\"195.0\" stroke=\"#1967d2\" stroke-width=\"1\"/><line x1=\"34.7588671875\" x2=\"539.517734375\" y1=\"245.0\" y2=\"245.0\" stroke=\"#1967d2\" stroke-width=\"1\"/><line x1=\"34.7588671875\" x2=\"539.517734375\" y1=\"295.0\" y2=\"295.0\" stroke=\"#1967d2\" stroke-width=\"1\"/><line x1=\"34.7588671875\" x2=\"539.517734375\" y1=\"345.0\" y2=\"345.0\" stroke=\"#1967d2\" stroke-width=\"1\"/><line x1=\"249.517734375\" x2=\"339.51773437500003\" y1=\"5.0\" y2=\"5.0\" stroke=\"black\" stroke-width=\"1\"/><line x1=\"249.517734375\" x2=\"339.51773437500003\" y1=\"385.0\" y2=\"385.0\" stroke=\"black\" stroke-width=\"1\"/><line x1=\"159.517734375\" x2=\"159.517734375\" y1=\"95.0\" y2=\"345.0\" stroke=\"black\" stroke-width=\"3\"/><line x1=\"219.517734375\" x2=\"219.517734375\" y1=\"95.0\" y2=\"295.0\" stroke=\"black\" stroke-width=\"3\"/><line x1=\"269.51773437500003\" x2=\"269.51773437500003\" y1=\"95.0\" y2=\"345.0\" stroke=\"black\" stroke-width=\"3\"/><line x1=\"379.51773437500003\" x2=\"379.51773437500003\" y1=\"95.0\" y2=\"345.0\" stroke=\"black\" stroke-width=\"3\"/><line x1=\"439.51773437500003\" x2=\"439.51773437500003\" y1=\"145.0\" y2=\"345.0\" stroke=\"black\" stroke-width=\"3\"/><line x1=\"249.517734375\" x2=\"249.517734375\" y1=\"5.0\" y2=\"15.0\" stroke=\"black\" stroke-width=\"3\"/><line x1=\"339.51773437500003\" x2=\"339.51773437500003\" y1=\"5.0\" y2=\"15.0\" stroke=\"black\" stroke-width=\"3\"/><line x1=\"249.517734375\" x2=\"249.517734375\" y1=\"375.0\" y2=\"385.0\" stroke=\"black\" stroke-width=\"3\"/><line x1=\"339.51773437500003\" x2=\"339.51773437500003\" y1=\"375.0\" y2=\"385.0\" stroke=\"black\" stroke-width=\"3\"/><rect x=\"10.0\" y=\"25.0\" width=\"49.517734375\" height=\"40\" stroke=\"black\" fill=\"white\" stroke-width=\"0\"/><text x=\"34.7588671875\" y=\"45.0\" dominant-baseline=\"middle\" text-anchor=\"middle\" font-size=\"14px\" font-family=\"sans\\-serif:style=normal:variant=normal:weight=normal:stretch=normal:size=10.0\">(0, 0): </text><rect x=\"10.0\" y=\"75.0\" width=\"49.517734375\" height=\"40\" stroke=\"black\" fill=\"white\" stroke-width=\"0\"/><text x=\"34.7588671875\" y=\"95.0\" dominant-baseline=\"middle\" text-anchor=\"middle\" font-size=\"14px\" font-family=\"sans\\-serif:style=normal:variant=normal:weight=normal:stretch=normal:size=10.0\">(0, 1): </text><rect x=\"10.0\" y=\"125.0\" width=\"49.517734375\" height=\"40\" stroke=\"black\" fill=\"white\" stroke-width=\"0\"/><text x=\"34.7588671875\" y=\"145.0\" dominant-baseline=\"middle\" text-anchor=\"middle\" font-size=\"14px\" font-family=\"sans\\-serif:style=normal:variant=normal:weight=normal:stretch=normal:size=10.0\">(0, 2): </text><rect x=\"10.0\" y=\"175.0\" width=\"49.517734375\" height=\"40\" stroke=\"black\" fill=\"white\" stroke-width=\"0\"/><text x=\"34.7588671875\" y=\"195.0\" dominant-baseline=\"middle\" text-anchor=\"middle\" font-size=\"14px\" font-family=\"sans\\-serif:style=normal:variant=normal:weight=normal:stretch=normal:size=10.0\">(0, 3): </text><rect x=\"10.0\" y=\"225.0\" width=\"49.517734375\" height=\"40\" stroke=\"black\" fill=\"white\" stroke-width=\"0\"/><text x=\"34.7588671875\" y=\"245.0\" dominant-baseline=\"middle\" text-anchor=\"middle\" font-size=\"14px\" font-family=\"sans\\-serif:style=normal:variant=normal:weight=normal:stretch=normal:size=10.0\">(0, 4): </text><rect x=\"10.0\" y=\"275.0\" width=\"49.517734375\" height=\"40\" stroke=\"black\" fill=\"white\" stroke-width=\"0\"/><text x=\"34.7588671875\" y=\"295.0\" dominant-baseline=\"middle\" text-anchor=\"middle\" font-size=\"14px\" font-family=\"sans\\-serif:style=normal:variant=normal:weight=normal:stretch=normal:size=10.0\">(1, 0): </text><rect x=\"10.0\" y=\"325.0\" width=\"49.517734375\" height=\"40\" stroke=\"black\" fill=\"white\" stroke-width=\"0\"/><text x=\"34.7588671875\" y=\"345.0\" dominant-baseline=\"middle\" text-anchor=\"middle\" font-size=\"14px\" font-family=\"sans\\-serif:style=normal:variant=normal:weight=normal:stretch=normal:size=10.0\">(2, 0): </text><rect x=\"79.517734375\" y=\"25.0\" width=\"40\" height=\"40\" stroke=\"black\" fill=\"white\" stroke-width=\"1\"/><text x=\"99.517734375\" y=\"45.0\" dominant-baseline=\"middle\" text-anchor=\"middle\" font-size=\"18px\" font-family=\"sans\\-serif:style=normal:variant=normal:weight=normal:stretch=normal:size=10.0\">H</text><rect x=\"79.517734375\" y=\"325.0\" width=\"40\" height=\"40\" stroke=\"black\" fill=\"white\" stroke-width=\"1\"/><text x=\"99.517734375\" y=\"345.0\" dominant-baseline=\"middle\" text-anchor=\"middle\" font-size=\"18px\" font-family=\"sans\\-serif:style=normal:variant=normal:weight=normal:stretch=normal:size=10.0\">H</text><rect x=\"79.517734375\" y=\"225.0\" width=\"40\" height=\"40\" stroke=\"black\" fill=\"white\" stroke-width=\"1\"/><text x=\"99.517734375\" y=\"245.0\" dominant-baseline=\"middle\" text-anchor=\"middle\" font-size=\"18px\" font-family=\"sans\\-serif:style=normal:variant=normal:weight=normal:stretch=normal:size=10.0\">M</text><circle cx=\"159.517734375\" cy=\"345.0\" r=\"10.0\"/><rect x=\"139.517734375\" y=\"75.0\" width=\"40\" height=\"40\" stroke=\"black\" fill=\"white\" stroke-width=\"1\"/><text x=\"159.517734375\" y=\"95.0\" dominant-baseline=\"middle\" text-anchor=\"middle\" font-size=\"18px\" font-family=\"sans\\-serif:style=normal:variant=normal:weight=normal:stretch=normal:size=10.0\">X</text><rect x=\"139.517734375\" y=\"25.0\" width=\"40\" height=\"40\" stroke=\"black\" fill=\"white\" stroke-width=\"1\"/><text x=\"159.517734375\" y=\"45.0\" dominant-baseline=\"middle\" text-anchor=\"middle\" font-size=\"18px\" font-family=\"sans\\-serif:style=normal:variant=normal:weight=normal:stretch=normal:size=10.0\">M</text><circle cx=\"219.517734375\" cy=\"95.0\" r=\"10.0\"/><rect x=\"199.517734375\" y=\"275.0\" width=\"40\" height=\"40\" stroke=\"black\" fill=\"white\" stroke-width=\"1\"/><text x=\"219.517734375\" y=\"295.0\" dominant-baseline=\"middle\" text-anchor=\"middle\" font-size=\"18px\" font-family=\"sans\\-serif:style=normal:variant=normal:weight=normal:stretch=normal:size=10.0\">X</text><circle cx=\"269.51773437500003\" cy=\"345.0\" r=\"10.0\"/><text x=\"269.51773437500003\" y=\"98.0\" dominant-baseline=\"middle\" text-anchor=\"middle\" font-size=\"40px\" font-family=\"sans\\-serif:style=normal:variant=normal:weight=normal:stretch=normal:size=10.0\">×</text><text x=\"269.51773437500003\" y=\"148.0\" dominant-baseline=\"middle\" text-anchor=\"middle\" font-size=\"40px\" font-family=\"sans\\-serif:style=normal:variant=normal:weight=normal:stretch=normal:size=10.0\">×</text><rect x=\"289.51773437500003\" y=\"275.0\" width=\"40\" height=\"40\" stroke=\"black\" fill=\"white\" stroke-width=\"1\"/><text x=\"309.51773437500003\" y=\"295.0\" dominant-baseline=\"middle\" text-anchor=\"middle\" font-size=\"18px\" font-family=\"sans\\-serif:style=normal:variant=normal:weight=normal:stretch=normal:size=10.0\">M</text><circle cx=\"379.51773437500003\" cy=\"95.0\" r=\"10.0\"/><circle cx=\"379.51773437500003\" cy=\"145.0\" r=\"10.0\"/><rect x=\"359.51773437500003\" y=\"325.0\" width=\"40\" height=\"40\" stroke=\"black\" fill=\"white\" stroke-width=\"1\"/><text x=\"379.51773437500003\" y=\"345.0\" dominant-baseline=\"middle\" text-anchor=\"middle\" font-size=\"18px\" font-family=\"sans\\-serif:style=normal:variant=normal:weight=normal:stretch=normal:size=10.0\">X</text><circle cx=\"439.51773437500003\" cy=\"345.0\" r=\"10.0\"/><text x=\"439.51773437500003\" y=\"148.0\" dominant-baseline=\"middle\" text-anchor=\"middle\" font-size=\"40px\" font-family=\"sans\\-serif:style=normal:variant=normal:weight=normal:stretch=normal:size=10.0\">×</text><text x=\"439.51773437500003\" y=\"198.0\" dominant-baseline=\"middle\" text-anchor=\"middle\" font-size=\"40px\" font-family=\"sans\\-serif:style=normal:variant=normal:weight=normal:stretch=normal:size=10.0\">×</text><rect x=\"419.51773437500003\" y=\"75.0\" width=\"40\" height=\"40\" stroke=\"black\" fill=\"white\" stroke-width=\"1\"/><text x=\"439.51773437500003\" y=\"95.0\" dominant-baseline=\"middle\" text-anchor=\"middle\" font-size=\"18px\" font-family=\"sans\\-serif:style=normal:variant=normal:weight=normal:stretch=normal:size=10.0\">M</text><rect x=\"479.51773437500003\" y=\"125.0\" width=\"40\" height=\"40\" stroke=\"black\" fill=\"white\" stroke-width=\"1\"/><text x=\"499.51773437500003\" y=\"145.0\" dominant-baseline=\"middle\" text-anchor=\"middle\" font-size=\"18px\" font-family=\"sans\\-serif:style=normal:variant=normal:weight=normal:stretch=normal:size=10.0\">M</text><rect x=\"479.51773437500003\" y=\"175.0\" width=\"40\" height=\"40\" stroke=\"black\" fill=\"white\" stroke-width=\"1\"/><text x=\"499.51773437500003\" y=\"195.0\" dominant-baseline=\"middle\" text-anchor=\"middle\" font-size=\"18px\" font-family=\"sans\\-serif:style=normal:variant=normal:weight=normal:stretch=normal:size=10.0\">M</text><rect x=\"479.51773437500003\" y=\"325.0\" width=\"40\" height=\"40\" stroke=\"black\" fill=\"white\" stroke-width=\"1\"/><text x=\"499.51773437500003\" y=\"345.0\" dominant-baseline=\"middle\" text-anchor=\"middle\" font-size=\"18px\" font-family=\"sans\\-serif:style=normal:variant=normal:weight=normal:stretch=normal:size=10.0\">M</text></svg>"
          },
          "metadata": {}
        }
      ]
    }
  ]
}